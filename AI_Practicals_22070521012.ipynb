{
  "nbformat": 4,
  "nbformat_minor": 0,
  "metadata": {
    "colab": {
      "provenance": []
    },
    "kernelspec": {
      "name": "python3",
      "display_name": "Python 3"
    },
    "language_info": {
      "name": "python"
    }
  },
  "cells": [
    {
      "cell_type": "markdown",
      "source": [
        "#BFS"
      ],
      "metadata": {
        "id": "X_s2A6GVyGM9"
      }
    },
    {
      "cell_type": "code",
      "execution_count": 1,
      "metadata": {
        "colab": {
          "base_uri": "https://localhost:8080/"
        },
        "id": "EhAIvcNkx1ip",
        "outputId": "9c66f3bc-8e22-4911-e36f-66e7f61fb613"
      },
      "outputs": [
        {
          "output_type": "stream",
          "name": "stdout",
          "text": [
            "BFS traversal:\n",
            "A B C D E F "
          ]
        }
      ],
      "source": [
        "from collections import deque\n",
        "\n",
        "def bfs(graph, start_node):\n",
        "    visited = []\n",
        "    queue = deque([start_node])\n",
        "\n",
        "    print(\"BFS traversal:\")\n",
        "    while queue:\n",
        "        current = queue.popleft()\n",
        "        if current not in visited:\n",
        "            print(current, end=\" \")\n",
        "            visited.append(current)\n",
        "            for neighbor in graph[current]:\n",
        "                if neighbor not in visited and neighbor not in queue:\n",
        "                    queue.append(neighbor)\n",
        "\n",
        "\n",
        "graph = {\n",
        "    'A': ['B', 'C'],\n",
        "    'B': ['A', 'D', 'E'],\n",
        "    'C': ['A', 'F'],\n",
        "    'D': ['B'],\n",
        "    'E': ['B', 'F'],\n",
        "    'F': ['C', 'E']\n",
        "}\n",
        "\n",
        "bfs(graph, 'A')\n"
      ]
    },
    {
      "cell_type": "markdown",
      "source": [
        "#DFS"
      ],
      "metadata": {
        "id": "F_TaANqTyMlp"
      }
    },
    {
      "cell_type": "code",
      "source": [
        "def dfs(graph, node, visited):\n",
        "    if node not in visited:\n",
        "        print(node, end=\" \")\n",
        "        visited.append(node)\n",
        "        for neighbor in graph[node]:\n",
        "            dfs(graph, neighbor, visited)\n",
        "\n",
        "graph = {\n",
        "    'A': ['B', 'C'],\n",
        "    'B': ['A', 'D', 'E'],\n",
        "    'C': ['A', 'F'],\n",
        "    'D': ['B'],\n",
        "    'E': ['B', 'F'],\n",
        "    'F': ['C', 'E']\n",
        "}\n",
        "\n",
        "visited = []\n",
        "print(\"DFS traversal:\")\n",
        "dfs(graph, 'A', visited)\n"
      ],
      "metadata": {
        "colab": {
          "base_uri": "https://localhost:8080/"
        },
        "id": "r41NVfezyBd0",
        "outputId": "14638e7c-f82b-4cc6-c66e-055daf0c5b51"
      },
      "execution_count": 2,
      "outputs": [
        {
          "output_type": "stream",
          "name": "stdout",
          "text": [
            "DFS traversal:\n",
            "A B D E F C "
          ]
        }
      ]
    },
    {
      "cell_type": "markdown",
      "source": [
        "#8 QUEENS"
      ],
      "metadata": {
        "id": "nFriQSKHyVAq"
      }
    },
    {
      "cell_type": "code",
      "source": [
        "def print_board(board):\n",
        "    for row in board:\n",
        "        print(\" \".join(row))\n",
        "    print()\n",
        "\n",
        "def is_safe(board, row, col):\n",
        "\n",
        "    for i in range(row):\n",
        "        if board[i][col] == 'Q':\n",
        "            return False\n",
        "\n",
        "    for i, j in zip(range(row-1, -1, -1), range(col-1, -1, -1)):\n",
        "        if board[i][j] == 'Q':\n",
        "            return False\n",
        "\n",
        "\n",
        "    for i, j in zip(range(row-1, -1, -1), range(col+1, 8)):\n",
        "        if board[i][j] == 'Q':\n",
        "            return False\n",
        "\n",
        "    return True\n",
        "\n",
        "def solve_queens(board, row):\n",
        "    if row == 8:\n",
        "        print(\"One of the solutions:\")\n",
        "        print_board(board)\n",
        "        return True\n",
        "\n",
        "    for col in range(8):\n",
        "        if is_safe(board, row, col):\n",
        "            board[row][col] = 'Q'\n",
        "            if solve_queens(board, row + 1):\n",
        "                return True\n",
        "            board[row][col] = '.'  # backtrack\n",
        "\n",
        "    return False\n",
        "\n",
        "board = [['.' for _ in range(8)] for _ in range(8)]\n",
        "\n",
        "\n",
        "solve_queens(board, 0)\n"
      ],
      "metadata": {
        "colab": {
          "base_uri": "https://localhost:8080/"
        },
        "id": "W2SEKqUHyc7I",
        "outputId": "53c15e31-e231-402c-920a-791f175c2f39"
      },
      "execution_count": 3,
      "outputs": [
        {
          "output_type": "stream",
          "name": "stdout",
          "text": [
            "One of the solutions:\n",
            "Q . . . . . . .\n",
            ". . . . Q . . .\n",
            ". . . . . . . Q\n",
            ". . . . . Q . .\n",
            ". . Q . . . . .\n",
            ". . . . . . Q .\n",
            ". Q . . . . . .\n",
            ". . . Q . . . .\n",
            "\n"
          ]
        },
        {
          "output_type": "execute_result",
          "data": {
            "text/plain": [
              "True"
            ]
          },
          "metadata": {},
          "execution_count": 3
        }
      ]
    },
    {
      "cell_type": "code",
      "source": [
        "def is_safe(queens, row, col):\n",
        "    for r in range(row):\n",
        "        c = queens[r]\n",
        "        if c == col or abs(c - col) == abs(r - row):\n",
        "            return False\n",
        "    return True\n",
        "\n",
        "def solve(queens, row):\n",
        "    if row == 8:\n",
        "        print(\"One solution (row = index, value = col):\")\n",
        "        print(queens)\n",
        "        return True\n",
        "    for col in range(8):\n",
        "        if is_safe(queens, row, col):\n",
        "            queens[row] = col\n",
        "            if solve(queens, row + 1):\n",
        "                return True\n",
        "    return False\n",
        "\n",
        "queens = [-1] * 8\n",
        "solve(queens, 0)\n"
      ],
      "metadata": {
        "colab": {
          "base_uri": "https://localhost:8080/"
        },
        "id": "Lr-a3BK1ylVO",
        "outputId": "f31b8e5d-4305-4b8c-ad07-a4ca5d39773e"
      },
      "execution_count": 4,
      "outputs": [
        {
          "output_type": "stream",
          "name": "stdout",
          "text": [
            "One solution (row = index, value = col):\n",
            "[0, 4, 7, 5, 2, 6, 1, 3]\n"
          ]
        },
        {
          "output_type": "execute_result",
          "data": {
            "text/plain": [
              "True"
            ]
          },
          "metadata": {},
          "execution_count": 4
        }
      ]
    },
    {
      "cell_type": "markdown",
      "source": [
        "#TOKENIZATION/STEMMING"
      ],
      "metadata": {
        "id": "WP68zWB9yf6W"
      }
    },
    {
      "cell_type": "code",
      "source": [
        "pip install nltk\n"
      ],
      "metadata": {
        "colab": {
          "base_uri": "https://localhost:8080/"
        },
        "id": "j4b4HlrvyyU3",
        "outputId": "f893969e-ea4f-4bb2-842c-751a48bad6cf"
      },
      "execution_count": 5,
      "outputs": [
        {
          "output_type": "stream",
          "name": "stdout",
          "text": [
            "Requirement already satisfied: nltk in /usr/local/lib/python3.11/dist-packages (3.9.1)\n",
            "Requirement already satisfied: click in /usr/local/lib/python3.11/dist-packages (from nltk) (8.1.8)\n",
            "Requirement already satisfied: joblib in /usr/local/lib/python3.11/dist-packages (from nltk) (1.4.2)\n",
            "Requirement already satisfied: regex>=2021.8.3 in /usr/local/lib/python3.11/dist-packages (from nltk) (2024.11.6)\n",
            "Requirement already satisfied: tqdm in /usr/local/lib/python3.11/dist-packages (from nltk) (4.67.1)\n"
          ]
        }
      ]
    },
    {
      "cell_type": "code",
      "source": [
        "import nltk\n",
        "from nltk.corpus import stopwords\n",
        "from nltk.stem import PorterStemmer\n",
        "from nltk.tokenize import word_tokenize\n",
        "\n",
        "nltk.download('punkt_tab')\n",
        "nltk.download('punkt')\n",
        "nltk.download('stopwords')\n",
        "\n",
        "text = \"The cats are playing with their toys and chasing mice.\"\n",
        "\n",
        "tokens = word_tokenize(text.lower())\n",
        "\n",
        "stop_words = set(stopwords.words('english'))\n",
        "filtered_tokens = []\n",
        "for word in tokens:\n",
        "    if word.lower() not in stop_words and word.isalpha():\n",
        "        filtered_tokens.append(word)\n",
        "\n",
        "stemmer = PorterStemmer()\n",
        "stemmed_tokens = [stemmer.stem(w) for w in filtered_tokens]\n",
        "\n",
        "print(\"Original:\", tokens)\n",
        "print(\"Filtered:\", filtered_tokens)\n",
        "print(\"Stemmed:\", stemmed_tokens)\n"
      ],
      "metadata": {
        "colab": {
          "base_uri": "https://localhost:8080/"
        },
        "id": "MZ7mvMAS5fgU",
        "outputId": "a7f053b7-60d1-4e5b-dcca-995835569f6e"
      },
      "execution_count": 13,
      "outputs": [
        {
          "output_type": "stream",
          "name": "stderr",
          "text": [
            "[nltk_data] Downloading package punkt_tab to /root/nltk_data...\n",
            "[nltk_data]   Unzipping tokenizers/punkt_tab.zip.\n"
          ]
        },
        {
          "output_type": "stream",
          "name": "stdout",
          "text": [
            "Original: ['the', 'cats', 'are', 'playing', 'with', 'their', 'toys', 'and', 'chasing', 'mice', '.']\n",
            "Filtered: ['cats', 'playing', 'toys', 'chasing', 'mice']\n",
            "Stemmed: ['cat', 'play', 'toy', 'chase', 'mice']\n"
          ]
        },
        {
          "output_type": "stream",
          "name": "stderr",
          "text": [
            "[nltk_data] Downloading package punkt to /root/nltk_data...\n",
            "[nltk_data]   Package punkt is already up-to-date!\n",
            "[nltk_data] Downloading package stopwords to /root/nltk_data...\n",
            "[nltk_data]   Package stopwords is already up-to-date!\n"
          ]
        }
      ]
    },
    {
      "cell_type": "markdown",
      "source": [
        "#TF/IDF"
      ],
      "metadata": {
        "id": "Q4ksiGFNzC8S"
      }
    },
    {
      "cell_type": "code",
      "source": [
        "pip install scikit-learn\n"
      ],
      "metadata": {
        "colab": {
          "base_uri": "https://localhost:8080/"
        },
        "id": "aKypzZUWzJak",
        "outputId": "0557d8a9-9c9f-43e0-8c64-c93e272fec82"
      },
      "execution_count": 7,
      "outputs": [
        {
          "output_type": "stream",
          "name": "stdout",
          "text": [
            "Requirement already satisfied: scikit-learn in /usr/local/lib/python3.11/dist-packages (1.6.1)\n",
            "Requirement already satisfied: numpy>=1.19.5 in /usr/local/lib/python3.11/dist-packages (from scikit-learn) (2.0.2)\n",
            "Requirement already satisfied: scipy>=1.6.0 in /usr/local/lib/python3.11/dist-packages (from scikit-learn) (1.14.1)\n",
            "Requirement already satisfied: joblib>=1.2.0 in /usr/local/lib/python3.11/dist-packages (from scikit-learn) (1.4.2)\n",
            "Requirement already satisfied: threadpoolctl>=3.1.0 in /usr/local/lib/python3.11/dist-packages (from scikit-learn) (3.6.0)\n"
          ]
        }
      ]
    },
    {
      "cell_type": "code",
      "source": [
        "from sklearn.feature_extraction.text import TfidfVectorizer\n",
        "\n",
        "# Sample documents\n",
        "docs = [\n",
        "    \"the quick brown fox jumped over the lazy dog\",\n",
        "    \"never jump over the lazy dog quickly\",\n",
        "    \"the dog is quick and the fox is clever\"\n",
        "]\n",
        "\n",
        "# Create TF-IDF Vectorizer\n",
        "vectorizer = TfidfVectorizer()\n",
        "\n",
        "# Fit and transform documents\n",
        "tfidf_matrix = vectorizer.fit_transform(docs)\n",
        "\n",
        "# Get the words (features)\n",
        "words = vectorizer.get_feature_names_out()\n",
        "\n",
        "# Display TF-IDF values\n",
        "for i in range(len(docs)):\n",
        "    print(f\"\\nDocument {i+1}:\")\n",
        "    for j in range(len(words)):\n",
        "        value = tfidf_matrix[i, j]\n",
        "        if value > 0:\n",
        "            print(f\"{words[j]}: {value:.3f}\")\n"
      ],
      "metadata": {
        "colab": {
          "base_uri": "https://localhost:8080/"
        },
        "id": "9N8q_CnkzLNX",
        "outputId": "9eab6702-8d6a-46f4-a26d-2ff83058103e"
      },
      "execution_count": 8,
      "outputs": [
        {
          "output_type": "stream",
          "name": "stdout",
          "text": [
            "\n",
            "Document 1:\n",
            "brown: 0.406\n",
            "dog: 0.240\n",
            "fox: 0.309\n",
            "jumped: 0.406\n",
            "lazy: 0.309\n",
            "over: 0.309\n",
            "quick: 0.309\n",
            "the: 0.480\n",
            "\n",
            "Document 2:\n",
            "dog: 0.268\n",
            "jump: 0.454\n",
            "lazy: 0.345\n",
            "never: 0.454\n",
            "over: 0.345\n",
            "quickly: 0.454\n",
            "the: 0.268\n",
            "\n",
            "Document 3:\n",
            "and: 0.335\n",
            "clever: 0.335\n",
            "dog: 0.198\n",
            "fox: 0.255\n",
            "is: 0.670\n",
            "quick: 0.255\n",
            "the: 0.396\n"
          ]
        }
      ]
    },
    {
      "cell_type": "markdown",
      "source": [
        "#FEATURED EXTRACTION"
      ],
      "metadata": {
        "id": "cu1hLNNZzRHd"
      }
    },
    {
      "cell_type": "code",
      "source": [
        "from sklearn.feature_extraction.text import CountVectorizer, TfidfVectorizer\n",
        "\n",
        "# Very simple text data\n",
        "documents = [\n",
        "    \"I love machine learning\",\n",
        "    \"Machine learning is fun\"\n",
        "]\n",
        "\n",
        "# --- Bag of Words ---\n",
        "print(\"Bag of Words:\")\n",
        "cv = CountVectorizer()\n",
        "bow = cv.fit_transform(documents)\n",
        "\n",
        "# Show word list\n",
        "print(\"Words:\", cv.get_feature_names_out())\n",
        "# Show matrix\n",
        "print(\"Matrix:\\n\", bow.toarray())\n",
        "\n",
        "# --- TF-IDF ---\n",
        "print(\"\\nTF-IDF:\")\n",
        "tfidf = TfidfVectorizer()\n",
        "tfidf_matrix = tfidf.fit_transform(documents)\n",
        "\n",
        "# Show word list\n",
        "print(\"Words:\", tfidf.get_feature_names_out())\n",
        "# Show matrix\n",
        "print(\"Matrix:\\n\", tfidf_matrix.toarray())\n"
      ],
      "metadata": {
        "colab": {
          "base_uri": "https://localhost:8080/"
        },
        "id": "WqVAyFRhzhu2",
        "outputId": "359735b4-f253-41c2-f5d2-ca92bf8e7c0f"
      },
      "execution_count": 9,
      "outputs": [
        {
          "output_type": "stream",
          "name": "stdout",
          "text": [
            "Bag of Words:\n",
            "Words: ['fun' 'is' 'learning' 'love' 'machine']\n",
            "Matrix:\n",
            " [[0 0 1 1 1]\n",
            " [1 1 1 0 1]]\n",
            "\n",
            "TF-IDF:\n",
            "Words: ['fun' 'is' 'learning' 'love' 'machine']\n",
            "Matrix:\n",
            " [[0.         0.         0.50154891 0.70490949 0.50154891]\n",
            " [0.57615236 0.57615236 0.40993715 0.         0.40993715]]\n"
          ]
        }
      ]
    },
    {
      "cell_type": "markdown",
      "source": [
        "#NLP ALGORITMS"
      ],
      "metadata": {
        "id": "3guyIS1-zmKX"
      }
    },
    {
      "cell_type": "code",
      "source": [
        "from sklearn.feature_extraction.text import CountVectorizer\n",
        "from sklearn.naive_bayes import MultinomialNB\n",
        "from sklearn.model_selection import train_test_split\n",
        "\n",
        "# Step 1: Sample data\n",
        "texts = [\n",
        "    \"I love this product\",     # positive\n",
        "    \"This is amazing\",         # positive\n",
        "    \"I hate this\",             # negative\n",
        "    \"This is terrible\",        # negative\n",
        "    \"Very good experience\",    # positive\n",
        "    \"Not a good one\"           # negative\n",
        "]\n",
        "\n",
        "labels = ['positive', 'positive', 'negative', 'negative', 'positive', 'negative']\n",
        "\n",
        "# Step 2: Convert text to numbers\n",
        "vectorizer = CountVectorizer()\n",
        "X = vectorizer.fit_transform(texts)\n",
        "\n",
        "# Step 3: Train-test split\n",
        "X_train, X_test, y_train, y_test = train_test_split(X, labels, test_size=0.33, random_state=42)\n",
        "\n",
        "# Step 4: Train Naive Bayes classifier\n",
        "model = MultinomialNB()\n",
        "model.fit(X_train, y_train)\n",
        "\n",
        "# Step 5: Predict and test\n",
        "predicted = model.predict(X_test)\n",
        "print(\"Predicted:\", predicted)\n",
        "print(\"Actual:   \", y_test)\n"
      ],
      "metadata": {
        "colab": {
          "base_uri": "https://localhost:8080/"
        },
        "id": "WlEWz4OTz_6i",
        "outputId": "f7791cdc-9fdb-4ff2-9c24-9514f6226507"
      },
      "execution_count": 10,
      "outputs": [
        {
          "output_type": "stream",
          "name": "stdout",
          "text": [
            "Predicted: ['negative' 'negative']\n",
            "Actual:    ['positive', 'positive']\n"
          ]
        }
      ]
    },
    {
      "cell_type": "markdown",
      "source": [
        "#TIC-TAC-TOE"
      ],
      "metadata": {
        "id": "IGp9BFhx0JCO"
      }
    },
    {
      "cell_type": "code",
      "source": [
        "# Tic-Tac-Toe Game\n",
        "\n",
        "# Initialize board\n",
        "board = [' ' for _ in range(9)]\n",
        "\n",
        "# Print board\n",
        "def print_board():\n",
        "    print()\n",
        "    for i in range(3):\n",
        "        print(board[3*i], '|', board[3*i+1], '|', board[3*i+2])\n",
        "        if i < 2:\n",
        "            print('--+---+--')\n",
        "    print()\n",
        "\n",
        "# Check for win\n",
        "def check_win(player):\n",
        "    win_conditions = [\n",
        "        [0,1,2], [3,4,5], [6,7,8],  # rows\n",
        "        [0,3,6], [1,4,7], [2,5,8],  # columns\n",
        "        [0,4,8], [2,4,6]            # diagonals\n",
        "    ]\n",
        "    for combo in win_conditions:\n",
        "        if board[combo[0]] == board[combo[1]] == board[combo[2]] == player:\n",
        "            return True\n",
        "    return False\n",
        "\n",
        "# Check for draw\n",
        "def check_draw():\n",
        "    return ' ' not in board\n",
        "\n",
        "# Main game loop\n",
        "def play_game():\n",
        "    current_player = 'X'\n",
        "    print_board()\n",
        "    while True:\n",
        "        move = int(input(f\"Player {current_player}, enter your move (1-9): \")) - 1\n",
        "        if board[move] == ' ':\n",
        "            board[move] = current_player\n",
        "            print_board()\n",
        "            if check_win(current_player):\n",
        "                print(f\"Player {current_player} wins!\")\n",
        "                break\n",
        "            if check_draw():\n",
        "                print(\"It's a draw!\")\n",
        "                break\n",
        "            current_player = 'O' if current_player == 'X' else 'X'\n",
        "        else:\n",
        "            print(\"That spot is already taken. Try again.\")\n",
        "\n",
        "play_game()\n"
      ],
      "metadata": {
        "colab": {
          "base_uri": "https://localhost:8080/"
        },
        "id": "kabS0cO_0TTf",
        "outputId": "c4812ef0-d3fe-4468-e8f9-bd386fd7f37e"
      },
      "execution_count": 11,
      "outputs": [
        {
          "output_type": "stream",
          "name": "stdout",
          "text": [
            "\n",
            "  |   |  \n",
            "--+---+--\n",
            "  |   |  \n",
            "--+---+--\n",
            "  |   |  \n",
            "\n",
            "Player X, enter your move (1-9): 3\n",
            "\n",
            "  |   | X\n",
            "--+---+--\n",
            "  |   |  \n",
            "--+---+--\n",
            "  |   |  \n",
            "\n",
            "Player O, enter your move (1-9): 2\n",
            "\n",
            "  | O | X\n",
            "--+---+--\n",
            "  |   |  \n",
            "--+---+--\n",
            "  |   |  \n",
            "\n",
            "Player X, enter your move (1-9): 9\n",
            "\n",
            "  | O | X\n",
            "--+---+--\n",
            "  |   |  \n",
            "--+---+--\n",
            "  |   | X\n",
            "\n",
            "Player O, enter your move (1-9): 6\n",
            "\n",
            "  | O | X\n",
            "--+---+--\n",
            "  |   | O\n",
            "--+---+--\n",
            "  |   | X\n",
            "\n",
            "Player X, enter your move (1-9): 4\n",
            "\n",
            "  | O | X\n",
            "--+---+--\n",
            "X |   | O\n",
            "--+---+--\n",
            "  |   | X\n",
            "\n",
            "Player O, enter your move (1-9): 1\n",
            "\n",
            "O | O | X\n",
            "--+---+--\n",
            "X |   | O\n",
            "--+---+--\n",
            "  |   | X\n",
            "\n",
            "Player X, enter your move (1-9): 5\n",
            "\n",
            "O | O | X\n",
            "--+---+--\n",
            "X | X | O\n",
            "--+---+--\n",
            "  |   | X\n",
            "\n",
            "Player O, enter your move (1-9): 7\n",
            "\n",
            "O | O | X\n",
            "--+---+--\n",
            "X | X | O\n",
            "--+---+--\n",
            "O |   | X\n",
            "\n",
            "Player X, enter your move (1-9): 8\n",
            "\n",
            "O | O | X\n",
            "--+---+--\n",
            "X | X | O\n",
            "--+---+--\n",
            "O | X | X\n",
            "\n",
            "It's a draw!\n"
          ]
        }
      ]
    }
  ]
}